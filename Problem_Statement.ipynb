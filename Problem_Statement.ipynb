{
 "cells": [
  {
   "cell_type": "markdown",
   "id": "39b21400",
   "metadata": {},
   "source": [
    "# Dark Matter Mass in a distant Galaxy"
   ]
  },
  {
   "cell_type": "markdown",
   "id": "0120c8ef",
   "metadata": {},
   "source": [
    "Galaxies follow a well-modelled distribution of stars and their masses as a function of distance from the galaxy centre. These together create a gravitational potential of the galaxy in which the stars revolve. However, observed stellar revolution rates are in stark disagreement with calculated values. This discrepancy can be attributed to the presence of dark matter halo around the galaxy, which creates a potential that fits with the observed velocities.\n",
    "\n",
    "Your task in this assignment is to estimate the amount of dark matter in the halo of a distant galaxy, KriGal. "
   ]
  },
  {
   "cell_type": "markdown",
   "id": "cc58f3d7",
   "metadata": {
    "tags": []
   },
   "source": [
    "## Finding the radius-velocity curve\n",
    "\n",
    "The following file(darkmatter.csv) contains observation data of the stars, a small section of which belong to the galaxy KriGal. Open the file and take a look to get an idea of what observations were made. Such data for stars this far are in practice impossible to measure with such precision, but were made possible for the first time in the history of space observation with KIT (Krittika's Incredible Telescope).\n",
    "\n",
    "It is known the galaxy's centre has (RA, Dec) = $(140.76398^0, 75.5344^0)$\n",
    "\n",
    "Open the CSV file, find the relative RA/Dec difference of each star w.r.t. the galaxy's centre and convert all data to SI units - would be handy later on. \n"
   ]
  },
  {
   "cell_type": "code",
   "execution_count": 5,
   "id": "d39ed60b-136d-4c79-a021-384a1849e7b1",
   "metadata": {
    "tags": []
   },
   "outputs": [],
   "source": [
    "import numpy as np\n",
    "import pandas as pd\n",
    "import matplotlib.pyplot as plt\n",
    "import math\n",
    "import csv"
   ]
  },
  {
   "cell_type": "code",
   "execution_count": 8,
   "id": "a26254dc-847e-4dda-b02d-0b696759f798",
   "metadata": {
    "tags": []
   },
   "outputs": [
    {
     "name": "stdout",
     "output_type": "stream",
     "text": [
      "0    0.000417\n",
      "1   -0.000183\n",
      "2    0.000057\n",
      "3   -0.000121\n",
      "4    0.000041\n",
      "5    0.000058\n",
      "6   -0.000414\n",
      "7   -0.000004\n",
      "8   -0.000059\n",
      "9   -0.000110\n",
      "Name: RA (degrees), dtype: float64\n",
      "0    0.000246\n",
      "1   -0.000133\n",
      "2    0.000030\n",
      "3   -0.000077\n",
      "4    0.000025\n",
      "5    0.000030\n",
      "6   -0.000238\n",
      "7   -0.000002\n",
      "8   -0.000032\n",
      "9   -0.000079\n",
      "Name: Dec (degrees), dtype: float64\n"
     ]
    }
   ],
   "source": [
    "import pandas as pd\n",
    "import numpy as np\n",
    "\n",
    "# load data from CSV file\n",
    "data = pd.read_csv('darkmatter.csv')\n",
    "\n",
    "# extract the RA and Dec columns\n",
    "RA = data['RA (degrees)']\n",
    "Dec = data['Dec (degrees)']\n",
    "\n",
    "# convert to radians\n",
    "RA_rad = np.radians(RA)\n",
    "Dec_rad = np.radians(Dec)\n",
    "\n",
    "# coordinates of galaxy center\n",
    "RA_cen = np.radians(140.763980)\n",
    "Dec_cen = np.radians(75.53440)\n",
    "\n",
    "# calculate relative difference w.r.t. galaxy center\n",
    "dRA = (RA_rad - RA_cen) * np.cos(Dec_cen)\n",
    "dDec = Dec_rad - Dec_cen\n",
    "\n",
    "# convert to SI units\n",
    "dRA *= 3600 * 180 / np.pi  # convert from radians to arcseconds\n",
    "dRA *= np.pi / 180  # convert from arcseconds to degrees\n",
    "dRA *= 2.06265e-5  # convert from degrees to radians\n",
    "dDec *= 3600 * 180 / np.pi  # convert from radians to arcseconds\n",
    "dDec *= np.pi / 180  # convert from arcseconds to degrees\n",
    "dDec *= 2.06265e-5  # convert from degrees to radians\n",
    "\n",
    "# print results\n",
    "print(dRA[:10])\n",
    "print(dDec[:10])\n"
   ]
  },
  {
   "cell_type": "code",
   "execution_count": 7,
   "id": "bd3ce153-7394-44b8-a443-a46ec5bfc06c",
   "metadata": {
    "tags": []
   },
   "outputs": [
    {
     "name": "stdout",
     "output_type": "stream",
     "text": [
      "Index(['RA (degrees)', 'Dec (degrees)', 'Proper Motion (milliarcseconds/year)',\n",
      "       'Redshift'],\n",
      "      dtype='object')\n"
     ]
    }
   ],
   "source": [
    "import pandas as pd\n",
    "\n",
    "data = pd.read_csv('darkmatter.csv')\n",
    "print(data.columns)\n"
   ]
  },
  {
   "cell_type": "markdown",
   "id": "db5f334d",
   "metadata": {},
   "source": [
    "Assume the galaxy is 3500 kpc (kiloparsecs) away and the centre of galaxy moves according to Hubble's law (H = $70$ km/s/Mpc). Note that the redshift $z$ is related to the radial velocity of any object as\n",
    "\n",
    "$$ z = \\sqrt{\\frac{c+v}{c-v}} - 1$$\n",
    "where $c$ = speed of light, and $v$ = velocity of object, taken positive when object moves away from us.\n",
    "\n",
    "Also 1 parsec = $3.083 \\times 10^{16}$ metres\n",
    "\n",
    "Using this, find the relative radial velocities of the stars w.r.t. the centre of galaxy.\n"
   ]
  },
  {
   "cell_type": "markdown",
   "id": "14563574",
   "metadata": {},
   "source": [
    "Use the previous information to find the tangential velocities of the stars. \n",
    "\n",
    "Assume the stars move in perfectly circular orbits and we view the galaxy edge-on i.e. to us the star trajectories appear like line segments."
   ]
  },
  {
   "cell_type": "markdown",
   "id": "1cdb9fe2",
   "metadata": {},
   "source": [
    "Now find the angular separation from galaxy centre to each star and use that to find the tangential separation (in length units) from the galaxy centre."
   ]
  },
  {
   "cell_type": "code",
   "execution_count": 10,
   "id": "37af7502",
   "metadata": {},
   "outputs": [],
   "source": [
    "#code\n",
    "import numpy as np\n",
    "\n",
    "# constants\n",
    "c = 3e8  # m/s\n",
    "H = 70  # km/s/Mpc\n",
    "pc_to_m = 3.086e16  # m/pc\n",
    "kpc_to_m = pc_to_m * 1000\n",
    "Mpc_to_m = kpc_to_m * 1000\n",
    "d_galaxy = 3500 * kpc_to_m\n",
    "\n",
    "# read data\n",
    "data = pd.read_csv('darkmatter.csv')\n",
    "\n",
    "# extract the RA and Dec columns\n",
    "RA = data['RA (degrees)']\n",
    "Dec = data['Dec (degrees)']\n",
    "\n",
    "# convert to radians\n",
    "RA_rad = np.radians(RA)\n",
    "Dec_rad = np.radians(Dec)\n",
    "\n",
    "# calculate the relative RA/Dec difference w.r.t. the galaxy's centre\n",
    "RA_diff = RA_rad - np.radians(140.763980)\n",
    "Dec_diff = Dec_rad - np.radians(75.53440)\n",
    "\n",
    "# calculate the radial velocity for each star\n",
    "z = data['Redshift']\n",
    "v_rad = c * (z + 1) - H * d_galaxy / Mpc_to_m\n",
    "\n",
    "# calculate the tangential velocity for each star\n",
    "v_total = np.sqrt(v_rad**2 + data['Proper Motion (milliarcseconds/year)']**2) * kpc_to_m / 1e6  # km/s\n",
    "theta = np.arctan(data['Proper Motion (milliarcseconds/year)'] / v_rad)  # radians\n",
    "v_tan = v_total * np.sin(theta)\n",
    "\n",
    "# calculate the tangential separation for each star\n",
    "d_rad = d_galaxy * np.sqrt(RA_diff**2 + Dec_diff**2)\n",
    "d_tan = d_rad * np.tan(theta)\n"
   ]
  },
  {
   "cell_type": "markdown",
   "id": "e72a1634",
   "metadata": {},
   "source": [
    "Find total velocity of each star w.r.t. galaxy centre.\n",
    "\n",
    "Using angle information obtained from velocity components (assume circular orbits) and tangential distance, find the radial distance and hence the total distance of each star w.r.t. galaxy centre.\n",
    "\n",
    "Make a scatter plot of velocity v/s radius."
   ]
  },
  {
   "cell_type": "code",
   "execution_count": 11,
   "id": "71249d31",
   "metadata": {},
   "outputs": [
    {
     "data": {
      "image/png": "[encoded data removed]",
      "text/plain": [
       "<Figure size 640x480 with 1 Axes>"
      ]
     },
     "metadata": {},
     "output_type": "display_data"
    }
   ],
   "source": [
    "#code\n",
    "import numpy as np\n",
    "import pandas as pd\n",
    "import matplotlib.pyplot as plt\n",
    "\n",
    "# load data\n",
    "data = pd.read_csv('darkmatter.csv')\n",
    "\n",
    "# extract the RA and Dec columns\n",
    "RA = data['RA (degrees)']\n",
    "Dec = data['Dec (degrees)']\n",
    "\n",
    "# convert to radians\n",
    "RA = np.radians(RA)\n",
    "Dec = np.radians(Dec)\n",
    "\n",
    "# galaxy centre coordinates\n",
    "RA_gal = np.radians(140.763980)\n",
    "Dec_gal = np.radians(75.53440)\n",
    "\n",
    "# galaxy distance and Hubble constant\n",
    "D_gal = 3500 * 3.086e19  # convert kpc to meters\n",
    "H = 70e3 / 3.086e22  # convert km/s/Mpc to m/s/m\n",
    "\n",
    "# relative RA and Dec w.r.t. galaxy centre\n",
    "dRA = RA - RA_gal\n",
    "dDec = Dec - Dec_gal\n",
    "\n",
    "# convert to Cartesian coordinates\n",
    "x = D_gal * np.cos(dDec) * np.cos(dRA)\n",
    "y = D_gal * np.cos(dDec) * np.sin(dRA)\n",
    "z = D_gal * np.sin(dDec)\n",
    "\n",
    "# relative radial velocity w.r.t. galaxy centre\n",
    "redshift = data['Redshift']\n",
    "v_rad = H * D_gal * (redshift + 1)\n",
    "\n",
    "# tangential velocity\n",
    "v_tan = np.sqrt((data['Proper Motion (milliarcseconds/year)'] * 1e-3 * D_gal * np.sin(dRA))**2 \n",
    "                + (data['Proper Motion (milliarcseconds/year)'] * 1e-3 * D_gal * np.cos(dRA) * np.sin(dDec))**2)\n",
    "\n",
    "# total velocity\n",
    "v_total = np.sqrt(v_rad**2 + v_tan**2)\n",
    "\n",
    "# tangential separation\n",
    "r_tan = np.sqrt(x**2 + y**2)\n",
    "\n",
    "# angle between tangential velocity and line connecting star to galaxy centre\n",
    "theta = np.arctan2(np.sqrt((x**2 + y**2)), z)\n",
    "\n",
    "# radial separation\n",
    "r_rad = r_tan / np.sin(theta)\n",
    "\n",
    "# total separation\n",
    "r_total = np.sqrt(r_rad**2 + r_tan**2)\n",
    "\n",
    "# scatter plot of velocity vs. radius\n",
    "plt.scatter(r_total, v_total, s=1)\n",
    "plt.xlabel('Radius (m)')\n",
    "plt.ylabel('Velocity (m/s)')\n",
    "plt.show()\n"
   ]
  },
  {
   "cell_type": "markdown",
   "id": "527a532b",
   "metadata": {},
   "source": [
    "## Finding halo parameters using the curve\n",
    "\n",
    "If you have got correctly so far, you would have got a set of points that follow what is known as the **galaxy rotation curve**, a curve that rises steeply first, curves and becomes almost constant from around midway. This rotation curve is evidence for the dark matter halo. The halo is taken to be spherical with the centre at galaxy's centre, with radial density profile given by the [Navarro-Frenk-White (NFW) profile](https://en.wikipedia.org/wiki/Navarro%E2%80%93Frenk%E2%80%93White_profile):\n",
    "\n",
    "$$ \\rho (r) = \\frac{\\rho_0}{\\frac{r}{R_s}\\left( 1 + \\frac{r}{R_s}\\right)^2} $$\n",
    "\n",
    "where $R_s$ is a scale radius whose value is comparable to the radius of the galaxy (i.e. same order of magnitude).\n",
    "\n",
    "From the density profile, find the expression for mass $M_r$ enclosed in a sphere of radius $r$ (you may include it in a handwritten page photo). Using this find the expression for velocity of a star at radius $r$. Recall that \n",
    "$$ \\frac{v^2}{r} = \\frac{GM_r}{r^2} $$"
   ]
  },
  {
   "cell_type": "markdown",
   "id": "afcbd213",
   "metadata": {
    "tags": []
   },
   "source": [
    "Once you have the velocity profile, using scipy's curve fitting function (google for syntax and uses!) find the best fit value of $R_s$. You are given that the value of $\\rho_0$ is $0.02$ solar masses per cubic parsec. Again, convert it to SI units before processing."
   ]
  },
  {
   "cell_type": "markdown",
   "id": "493ff83d",
   "metadata": {
    "tags": []
   },
   "source": [
    "Plot the actual vs curve-fitted plots of velocity and radius. If you have passed only the three required arguments to curve-fit (function name, input and output) you will (likely) notice it doesn't work at all and gives an impossible value for $R_s$! (If you get a good fit in the first try itself, that's great!)\n",
    "\n",
    "This happens because scipy's initial guess for the parameter is 1 (metre), which is nowhere near the actual value on the order of kiloparsecs. Look up scipy's syntax to see how we can pass in an initial guess ourselves. Now pass on an initial guess (given that you know it's on the order of kiloparsecs) to curve fit. "
   ]
  },
  {
   "cell_type": "code",
   "execution_count": 19,
   "id": "b261966f",
   "metadata": {},
   "outputs": [],
   "source": [
    "#code\n",
    "import numpy as np\n",
    "import matplotlib.pyplot as plt\n",
    "from scipy.optimize import curve_fit\n",
    "\n",
    "G = 6.67430e-11  # gravitational constant\n",
    "rho0 = 3.437e-25  # density at scale radius in kg/m^3\n",
    "r = d_tan / np.sin(theta)\n",
    "\n",
    "def v_rot(r, Rs):\n",
    "    x = r / Rs\n",
    "    return np.sqrt(4 * np.pi * G * rho0 * Rs ** 3 * (np.log(1 + x) - x / (1 + x))) / r\n"
   ]
  },
  {
   "cell_type": "code",
   "execution_count": 23,
   "id": "0f92791b-f136-4b8c-bdd1-7bf7db0369c7",
   "metadata": {
    "tags": []
   },
   "outputs": [
    {
     "name": "stdout",
     "output_type": "stream",
     "text": [
      "Best fit value of rho0: 1.353558447463719e-21 kg/m^3\n",
      "Best fit value of Rs: 30000.0 m\n"
     ]
    },
    {
     "name": "stderr",
     "output_type": "stream",
     "text": [
      "C:\\Users\\Atharva\\AppData\\Roaming\\jupyterlab-desktop\\jlab_server\\lib\\site-packages\\scipy\\optimize\\_minpack_py.py:906: OptimizeWarning: Covariance of the parameters could not be estimated\n",
      "  warnings.warn('Covariance of the parameters could not be estimated',\n"
     ]
    },
    {
     "data": {
      "image/png": "[encoded data removed]",
      "text/plain": [
       "<Figure size 800x600 with 1 Axes>"
      ]
     },
     "metadata": {},
     "output_type": "display_data"
    }
   ],
   "source": [
    "import numpy as np\n",
    "import matplotlib.pyplot as plt\n",
    "from scipy.optimize import curve_fit\n",
    "\n",
    "# Define constants\n",
    "G = 6.6743e-11  # Nm^2/kg^2\n",
    "M_gal = 1e12  # kg\n",
    "rho0 = 0.02 * 1.989e30 / (3.086e16)**3  # kg/m^3\n",
    "\n",
    "# Load data\n",
    "data = np.loadtxt('darkmatter.csv', delimiter=',', skiprows=1)\n",
    "\n",
    "r = data[:, 0] * 3.086e16  # convert kpc to m\n",
    "v = data[:, 1] * 1000  # convert km/s to m/s\n",
    "\n",
    "# Define functions\n",
    "def M_enc(r, rho0, Rs):\n",
    "    return 4 * np.pi * rho0 * Rs**3 * (np.log((Rs + r)/Rs) - r/(Rs + r))\n",
    "\n",
    "def v_rot(r, rho0, Rs):\n",
    "    return np.sqrt(G * M_enc(r, rho0, Rs) / r)\n",
    "\n",
    "# Fitting\n",
    "popt, pcov = curve_fit(v_rot, r, v, p0=[rho0, 30e3], maxfev=10000)\n",
    "rho0_fit, Rs_fit = popt\n",
    "print(\"Best fit value of rho0:\", rho0_fit, \"kg/m^3\")\n",
    "print(\"Best fit value of Rs:\", Rs_fit, \"m\")\n",
    "\n",
    "# Plotting\n",
    "plt.figure(figsize=(8, 6))\n",
    "plt.scatter(r, v, label=\"Actual\")\n",
    "plt.plot(r, v_rot(r, rho0_fit, Rs_fit), label=\"Fit\")\n",
    "plt.xlabel(\"Radius (m)\")\n",
    "plt.ylabel(\"Velocity (m/s)\")\n",
    "plt.legend()\n",
    "plt.show()\n"
   ]
  },
  {
   "cell_type": "markdown",
   "id": "eb9994f1",
   "metadata": {},
   "source": [
    "Although the dark matter halo nominally has no end, we define the boundary of the halo to be the radius $R_{vir}$ where the **mean** density of the sphere of radius $R_{vir}$ merges with the background density of the Universe. Write a function calculating mean density for a radius $r$, and find the density at $50R_s$."
   ]
  },
  {
   "cell_type": "code",
   "execution_count": 25,
   "id": "f718cd38",
   "metadata": {},
   "outputs": [
    {
     "name": "stdout",
     "output_type": "stream",
     "text": [
      "R_vir = 0.0 kpc\n",
      "Mean density at 50 Rs = 9.587850512111156e-26 kg/m^3\n"
     ]
    },
    {
     "name": "stderr",
     "output_type": "stream",
     "text": [
      "C:\\Users\\Atharva\\AppData\\Local\\Temp\\ipykernel_8704\\1961494108.py:15: RuntimeWarning: invalid value encountered in double_scalars\n",
      "  return M_enc(r, rho0, Rs) / (4/3 * np.pi * r**3)\n"
     ]
    }
   ],
   "source": [
    "#code\n",
    "from scipy import optimize\n",
    "import numpy as np\n",
    "\n",
    "# Constants\n",
    "G = 6.6743e-11  # gravitational constant (m^3/kg/s^2)\n",
    "rho_bg = 1.5e-27  # background density of the Universe (kg/m^3)\n",
    "\n",
    "# Function to calculate enclosed mass within radius r\n",
    "def M_enc(r, rho0, Rs):\n",
    "    return 4 * np.pi * rho0 * Rs**3 * (np.log(1 + r/Rs) - r/(r+Rs))\n",
    "\n",
    "# Function to calculate mean density at radius r\n",
    "def rho_mean(r, rho0, Rs):\n",
    "    return M_enc(r, rho0, Rs) / (4/3 * np.pi * r**3)\n",
    "\n",
    "# Find R_vir\n",
    "def find_R_vir(rho0, Rs):\n",
    "    def f(R):\n",
    "        return rho_mean(R, rho0, Rs) - rho_bg\n",
    "    R_vir, _ = optimize.brentq(f, 0, 1000*Rs, full_output=True)\n",
    "    return R_vir\n",
    "\n",
    "# Main code\n",
    "rho0 = 0.02 * 1.989e30 / (3.086e16)**3  # kg/m^3\n",
    "Rs = 16.1 * 3.086e16  # m\n",
    "\n",
    "R_vir = find_R_vir(rho0, Rs)\n",
    "print(\"R_vir =\", R_vir/3.086e16, \"kpc\")\n",
    "\n",
    "R_50 = 50 * Rs\n",
    "rho_50 = rho_mean(R_50, rho0, Rs)\n",
    "print(\"Mean density at 50 Rs =\", rho_50, \"kg/m^3\")\n"
   ]
  },
  {
   "cell_type": "markdown",
   "id": "ae4d6114",
   "metadata": {},
   "source": [
    "The background density of the Universe is $8.5 \\times 10^{-27}$ in SI units. We take the virial radius to be where mean density of sphere is equal to 50 times background density. Find the value of virial radius at which this happens.\n",
    "\n",
    "Getting an analytical expression for radius from the mean density equation can be difficult. You can either use a numerical solver like Desmos, or more preferably, tweak around with a few values of radius in the mean density function you wrote till you get a density around 40-60 times the background density. Round off to the nearest multiple of $10R_s$."
   ]
  },
  {
   "cell_type": "code",
   "execution_count": 26,
   "id": "a25a5a15",
   "metadata": {},
   "outputs": [
    {
     "name": "stdout",
     "output_type": "stream",
     "text": [
      "Virial radius at which mean density is around 50 times the background density: 4.97e+18 m\n"
     ]
    }
   ],
   "source": [
    "#code\n",
    "import numpy as np\n",
    "\n",
    "# Constants\n",
    "Rs = 16.1 * 3.086e16  # m\n",
    "rho0 = 0.02 * 1.989e30 / (3.086e16)**3  # kg/m^3\n",
    "rho_bg = 8.5e-27  # kg/m^3\n",
    "\n",
    "# Define function to calculate mean density at radius R\n",
    "def rho_mean(R):\n",
    "    return rho0 / ( (R/Rs) * (1 + R/Rs)**2 )\n",
    "\n",
    "# Find radius at which mean density is around 50 times the background density\n",
    "R = 10 * Rs\n",
    "while rho_mean(R) < 40*rho_bg or rho_mean(R) > 60*rho_bg:\n",
    "    R += Rs/10\n",
    "\n",
    "# Round off to nearest multiple of 10 Rs\n",
    "R_vir = round(R/(10*Rs)) * 10*Rs\n",
    "\n",
    "print(\"Virial radius at which mean density is around 50 times the background density: {:.2e} m\".format(R_vir))\n"
   ]
  },
  {
   "cell_type": "markdown",
   "id": "193017db",
   "metadata": {},
   "source": [
    "Using this virial radius, find the total mass contained inside the sphere i.e. the mass of dark matter in the galaxy"
   ]
  },
  {
   "cell_type": "code",
   "execution_count": 28,
   "id": "b68e4bdc",
   "metadata": {},
   "outputs": [
    {
     "name": "stdout",
     "output_type": "stream",
     "text": [
      "Total mass inside the virial radius =  5.922412917615507e+32  kg\n"
     ]
    }
   ],
   "source": [
    "#code\n",
    "import numpy as np\n",
    "\n",
    "# Define function for mean density\n",
    "def rho_mean(R, rho0, Rs):\n",
    "    return rho0 / ((R/Rs) * (1 + R/Rs)**2)\n",
    "\n",
    "# Define constants\n",
    "rho0 = 0.02 * 1.989e30 / (3.086e16)**3  # kg/m^3\n",
    "Rs = 16.1 * 3.086e16  # m\n",
    "R_vir = 192.6 * 3.086e16  # m\n",
    "\n",
    "# Calculate total mass inside the virial radius\n",
    "rho_mean_vir = rho_mean(R_vir, rho0, Rs)\n",
    "M_vir = (4/3) * np.pi * R_vir**3 * rho_mean_vir\n",
    "print(\"Total mass inside the virial radius = \", M_vir, \" kg\")"
   ]
  }
 ],
 "metadata": {
  "kernelspec": {
   "display_name": "Python 3 (ipykernel)",
   "language": "python",
   "name": "python3"
  },
  "language_info": {
   "codemirror_mode": {
    "name": "ipython",
    "version": 3
   },
   "file_extension": ".py",
   "mimetype": "text/x-python",
   "name": "python",
   "nbconvert_exporter": "python",
   "pygments_lexer": "ipython3",
   "version": "3.8.16"
  }
 },
 "nbformat": 4,
 "nbformat_minor": 5
}
